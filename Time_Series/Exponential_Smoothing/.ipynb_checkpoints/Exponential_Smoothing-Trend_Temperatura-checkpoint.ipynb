{
 "cells": [
  {
   "cell_type": "markdown",
   "metadata": {},
   "source": [
    "# Método de tendência linear de Holt"
   ]
  },
  {
   "cell_type": "markdown",
   "metadata": {},
   "source": [
    "Utilizando modelo de suavização exponencial com tendência linear de Holt para prever preço do óleo na Arabia Saudita"
   ]
  },
  {
   "cell_type": "markdown",
   "metadata": {},
   "source": [
    "* Importando bibliotecas"
   ]
  },
  {
   "cell_type": "code",
   "execution_count": null,
   "metadata": {},
   "outputs": [],
   "source": [
    "import numpy as np\n",
    "import pandas as pd\n",
    "import matplotlib.pyplot as plt"
   ]
  },
  {
   "cell_type": "markdown",
   "metadata": {},
   "source": [
    "* Lendo arquivo Excel"
   ]
  },
  {
   "cell_type": "code",
   "execution_count": null,
   "metadata": {},
   "outputs": [],
   "source": [
    "dados = pd.read_csv('BrentOilPrices.csv')"
   ]
  },
  {
   "cell_type": "markdown",
   "metadata": {},
   "source": [
    "* Exibindo cinco primeiras linhas"
   ]
  },
  {
   "cell_type": "code",
   "execution_count": null,
   "metadata": {},
   "outputs": [],
   "source": [
    "dados.head()"
   ]
  },
  {
   "cell_type": "code",
   "execution_count": null,
   "metadata": {},
   "outputs": [],
   "source": [
    "dados['Date'] = pd.to_datetime(dados['Date'])"
   ]
  },
  {
   "cell_type": "markdown",
   "metadata": {},
   "source": [
    "* Definindo ano como índice"
   ]
  },
  {
   "cell_type": "code",
   "execution_count": null,
   "metadata": {},
   "outputs": [],
   "source": [
    "dados = dados.set_index('Date')"
   ]
  },
  {
   "cell_type": "markdown",
   "metadata": {},
   "source": [
    "* Graficando série temporal"
   ]
  },
  {
   "cell_type": "code",
   "execution_count": null,
   "metadata": {},
   "outputs": [],
   "source": [
    "dados.plot()\n",
    "plt.xlabel('Ano')\n",
    "plt.ylabel('Preço')\n",
    "plt.tight_layout()"
   ]
  },
  {
   "cell_type": "markdown",
   "metadata": {},
   "source": [
    "* Criando amostras de treino e teste"
   ]
  },
  {
   "cell_type": "code",
   "execution_count": null,
   "metadata": {},
   "outputs": [],
   "source": [
    "t_treino = dados[dados.index<'2016-01-01'].index.values\n",
    "t_teste = dados[dados.index>='2016-01-01'].index.values\n",
    "X_treino = dados[dados.index<'2016-01-01'].values\n",
    "X_teste = dados[dados.index>='2016-01-01'].values"
   ]
  },
  {
   "cell_type": "markdown",
   "metadata": {},
   "source": [
    "* Aplicando modelo Exponential Smoothing"
   ]
  },
  {
   "cell_type": "code",
   "execution_count": null,
   "metadata": {},
   "outputs": [],
   "source": [
    "from statsmodels.tsa.holtwinters import ExponentialSmoothing"
   ]
  },
  {
   "cell_type": "code",
   "execution_count": null,
   "metadata": {},
   "outputs": [],
   "source": [
    "fit1 = ExponentialSmoothing(X_treino, trend='add', damped=True).fit()\n",
    "fit1 = fit1.forecast(len(X_teste))\n",
    "\n",
    "fit2 = ExponentialSmoothing(X_treino, trend='mul', damped=True).fit()\n",
    "fit2 = fit2.forecast(len(X_teste))\n",
    "\n",
    "fit3 = ExponentialSmoothing(X_treino, trend='add', damped=False).fit()\n",
    "fit3 = fit3.forecast(len(X_teste))\n",
    "\n",
    "fit4 = ExponentialSmoothing(X_treino, trend='mul', damped=False).fit()\n",
    "fit4 = fit4.forecast(len(X_teste))"
   ]
  },
  {
   "cell_type": "code",
   "execution_count": null,
   "metadata": {},
   "outputs": [],
   "source": [
    "plt.plot(t_treino,X_treino, marker='o', color='black',label='Treino')\n",
    "plt.plot(t_teste,X_teste, marker='o', color='red',label='Teste')\n",
    "plt.plot(t_teste,fit1, marker='o', color='blue',label='Fit1')\n",
    "plt.plot(t_teste,fit2, marker='o', color='green',label='Fit2')\n",
    "plt.plot(t_teste,fit3, marker='o', color='orange',label='Fit3')\n",
    "plt.plot(t_teste,fit4, marker='o', color='cyan',label='Fit4')\n",
    "plt.xlabel('Ano')\n",
    "plt.ylabel('Preço')\n",
    "plt.legend()"
   ]
  },
  {
   "cell_type": "markdown",
   "metadata": {},
   "source": [
    "* Calculando erros"
   ]
  },
  {
   "cell_type": "code",
   "execution_count": null,
   "metadata": {},
   "outputs": [],
   "source": [
    "from sklearn.metrics import mean_squared_error"
   ]
  },
  {
   "cell_type": "code",
   "execution_count": null,
   "metadata": {},
   "outputs": [],
   "source": [
    "MSE_beta02 = mean_squared_error(X_teste,fit_beta_02)\n",
    "MSE_beta05 = mean_squared_error(X_teste,fit_beta_05)\n",
    "MSE_beta08 = mean_squared_error(X_teste,fit_beta_08)\n",
    "MSE_beta09 = mean_squared_error(X_teste,fit_beta_09)"
   ]
  },
  {
   "cell_type": "code",
   "execution_count": null,
   "metadata": {},
   "outputs": [],
   "source": [
    "RMSE_beta02 = np.sqrt(MSE_beta02)\n",
    "RMSE_beta05 = np.sqrt(MSE_beta05)\n",
    "RMSE_beta08 = np.sqrt(MSE_beta08)\n",
    "RMSE_beta09 = np.sqrt(MSE_beta09)"
   ]
  },
  {
   "cell_type": "code",
   "execution_count": null,
   "metadata": {},
   "outputs": [],
   "source": [
    "print(\"RMSE (beta=0.2) = {:0.2f}\".format(RMSE_beta02))\n",
    "print(\"RMSE (beta=0.5) = {:0.2f}\".format(RMSE_beta05))\n",
    "print(\"RMSE (beta=0.8) = {:0.2f}\".format(RMSE_beta08))\n",
    "print(\"RMSE (beta=0.9) = {:0.2f}\".format(RMSE_beta09))"
   ]
  },
  {
   "cell_type": "code",
   "execution_count": null,
   "metadata": {},
   "outputs": [],
   "source": []
  },
  {
   "cell_type": "code",
   "execution_count": null,
   "metadata": {},
   "outputs": [],
   "source": []
  }
 ],
 "metadata": {
  "kernelspec": {
   "display_name": "Python 3",
   "language": "python",
   "name": "python3"
  },
  "language_info": {
   "codemirror_mode": {
    "name": "ipython",
    "version": 3
   },
   "file_extension": ".py",
   "mimetype": "text/x-python",
   "name": "python",
   "nbconvert_exporter": "python",
   "pygments_lexer": "ipython3",
   "version": "3.8.3"
  }
 },
 "nbformat": 4,
 "nbformat_minor": 4
}
